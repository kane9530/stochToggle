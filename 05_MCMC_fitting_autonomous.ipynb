{
 "cells": [
  {
   "cell_type": "code",
   "execution_count": 1,
   "metadata": {},
   "outputs": [
    {
     "ename": "ModuleNotFoundError",
     "evalue": "No module named 'emcee'",
     "output_type": "error",
     "traceback": [
      "\u001b[0;31m---------------------------------------------------------------------------\u001b[0m",
      "\u001b[0;31mModuleNotFoundError\u001b[0m                       Traceback (most recent call last)",
      "\u001b[0;32m<ipython-input-1-f1cd78d02e76>\u001b[0m in \u001b[0;36m<module>\u001b[0;34m\u001b[0m\n\u001b[1;32m      4\u001b[0m \u001b[0;32mimport\u001b[0m \u001b[0mtime\u001b[0m\u001b[0;34m\u001b[0m\u001b[0;34m\u001b[0m\u001b[0m\n\u001b[1;32m      5\u001b[0m \u001b[0;34m\u001b[0m\u001b[0m\n\u001b[0;32m----> 6\u001b[0;31m \u001b[0;32mimport\u001b[0m \u001b[0memcee\u001b[0m\u001b[0;34m\u001b[0m\u001b[0;34m\u001b[0m\u001b[0m\n\u001b[0m\u001b[1;32m      7\u001b[0m \u001b[0;32mimport\u001b[0m \u001b[0mnumpy\u001b[0m \u001b[0;32mas\u001b[0m \u001b[0mnp\u001b[0m\u001b[0;34m\u001b[0m\u001b[0;34m\u001b[0m\u001b[0m\n\u001b[1;32m      8\u001b[0m \u001b[0;32mimport\u001b[0m \u001b[0mpandas\u001b[0m \u001b[0;32mas\u001b[0m \u001b[0mpd\u001b[0m\u001b[0;34m\u001b[0m\u001b[0;34m\u001b[0m\u001b[0m\n",
      "\u001b[0;31mModuleNotFoundError\u001b[0m: No module named 'emcee'"
     ]
    }
   ],
   "source": [
    "from __future__ import print_function, division\n",
    "import os\n",
    "import sys\n",
    "import time \n",
    "\n",
    "import emcee\n",
    "import numpy as np\n",
    "import pandas as pd\n",
    "import math\n",
    "from scipy.integrate import odeint\n",
    "import matplotlib.pyplot as plt\n",
    "from multiprocessing import Pool\n",
    "import pickle\n",
    "from scipy.optimize import curve_fit\n",
    "\n",
    "from toggle_equations import *\n",
    "from attractor_stats import *\n",
    "from steady_states import *\n",
    "from sim_funcs import *\n",
    "from plotting_funcs import *\n"
   ]
  },
  {
   "cell_type": "markdown",
   "metadata": {},
   "source": [
    "# Importing data to initialise run"
   ]
  },
  {
   "cell_type": "markdown",
   "metadata": {},
   "source": [
    "`mcmc_initialise.csv`: Excel file that contains the normalised values of Sox2, Tbxta and TCF_mRNA of an 18ss TCF-GFP tailbud. \n",
    "\n",
    "Filename of sample: TCF-GFP_18ss_B1tbxta594_B4sox2647_B2egfp546_4_Series009.ims\n",
    "\n",
    "NMp number = 182"
   ]
  },
  {
   "cell_type": "code",
   "execution_count": 10,
   "metadata": {},
   "outputs": [],
   "source": [
    "##### df = pd.read_csv(\"normalised_exp.csv\")\n",
    "df = pd.read_csv(\"files/csv/mcmc_initialise.csv\")\n",
    "data = np.load(\"files/npy/loess_fit_vals_050421.npy\")\n",
    "#filt = (df[\"stage\"] == \"18ss\") & (df[\"ID\"] == 7)\n",
    "nmp_numbers = len(df)\n",
    "\"\"\"\n",
    "groups = df.loc[filt, ].groupby(\"ID\")\n",
    "for _ , group in groups:\n",
    "    nmp_list = group[[\"sox2_norm\", \"tbxta_norm\", \"tcf_norm\"]].values.tolist()\n",
    "\"\"\"\n",
    "\n",
    "nmp_list = df[['sox2_norm', 'tbxta_norm']].values.tolist()\n",
    "nmp_list_tcf = df[['sox2_norm', 'tbxta_norm','tcf_norm', 'TCF_group']].values.tolist()"
   ]
  },
  {
   "cell_type": "code",
   "execution_count": 13,
   "metadata": {},
   "outputs": [
    {
     "data": {
      "text/plain": [
       "60"
      ]
     },
     "execution_count": 13,
     "metadata": {},
     "output_type": "execute_result"
    }
   ],
   "source": [
    "mylist = [l for l in nmp_list_tcf if l[3] == 0]\n",
    "len(mylist)"
   ]
  },
  {
   "cell_type": "code",
   "execution_count": 4,
   "metadata": {},
   "outputs": [
    {
     "data": {
      "text/plain": [
       "[[0.360546782606608, 0.33999913174345897, 0.49255643564356394, 1.0],\n",
       " [0.136614642376552, 0.142272516786293, 0.44234851485148496, 1.0],\n",
       " [0.0022842615479472398, 0.289887705487381, 0.361341584158416, 1.0],\n",
       " [0.0167444172357735, 0.13319923593424401, 0.305214356435644, 1.0],\n",
       " [0.0892862232725647, 0.18254514934012497, 0.29348861386138597, 1.0],\n",
       " [0.0484215442668186, 0.0673694721000232, 0.420704455445545, 1.0],\n",
       " [0.20611309994994398, 0.21186183144246398, 0.534039603960396, 1.0],\n",
       " [0.0201958124205222, 0.127264702477425, 0.585712871287129, 1.0],\n",
       " [0.0282417336785062, 0.20639326232924302, 0.551816831683168, 1.0],\n",
       " [0.0287867960881521, 0.21359689742996105, 0.42941386138613896, 1.0],\n",
       " [0.0152667480426509, 0.28986744616809396, 0.40976435643564396, 1.0],\n",
       " [0.0965945600771289, 0.134669483676777, 0.286610891089109, 0.0],\n",
       " [0.0953894220888292, 0.0411481245658717, 0.237076237623762, 0.0],\n",
       " [0.121361895937085, 0.094022053716138, 0.358061881188119, 0.0],\n",
       " [0.13895341016546398, 0.347962491317435, 0.24055792079207897, 0.0],\n",
       " [0.0569000150517235, 0.207844697846724, 0.7270841584158421, 0.0],\n",
       " [0.168928842352449, 0.00085812688122251, 0.43578514851485206, 0.0],\n",
       " [0.153186039801557, 0.0890686501504978, 0.285781683168317, 1.0],\n",
       " [0.0810042749894863, 0.0242243574901598, 0.35708861386138596, 1.0],\n",
       " [0.0628281938281934, 0.197752662653392, 0.454590099009901, 1.0],\n",
       " [0.0911044314574019, 0.13492417226209802, 0.6809306930693071, 0.0],\n",
       " [0.0462447950290308, 0.0210783746237555, 0.32227871287128695, 0.0],\n",
       " [0.0209844027141108, 0.0427037508682565, 0.47135693069306894, 0.0],\n",
       " [0.08258995655002499, 0.0441161148413985, 0.21316534653465302, 0.0],\n",
       " [0.529096081501332, 0.0205588677934707, 0.19806930693069297, 0.0],\n",
       " [0.187726494683641, 0.0, 0.24159158415841603, 0.0],\n",
       " [0.23349723543345702, 8.24843713822778e-05, 0.30019702970296996, 0.0],\n",
       " [0.0230676412449226, 0.11278363047001598, 0.25424504950495, 1.0],\n",
       " [0.0289118104022911, 0.0882973489233619, 0.5147970297029699, 1.0],\n",
       " [0.522690348044851, 0.20315755962028198, 0.236316831683168, 1.0],\n",
       " [0.129595838723534, 0.24266323222968303, 0.42026485148514897, 1.0],\n",
       " [0.0773343547836228, 0.0677182218106043, 0.6207524752475251, 1.0],\n",
       " [0.17990609924836398, 1.0, 0.4455445544554461, 1.0],\n",
       " [0.00948008546978631, 0.34608561009492894, 0.40515198019802007, 1.0],\n",
       " [0.0190221780393855, 0.18828287798101398, 0.5740346534653471, 1.0],\n",
       " [0.191699949644234, 0.202646735355406, 0.27535495049505, 1.0],\n",
       " [0.0132550176995266, 0.19628820328779803, 0.34396138613861404, 1.0],\n",
       " [0.127533602597497, 0.287135332252836, 0.180358910891089, 1.0],\n",
       " [0.20835635680285397, 0.22255441074322801, 0.28778663366336604, 1.0],\n",
       " [0.0712211548222272, 0.19912450798795997, 0.53220297029703, 1.0],\n",
       " [0.0366441957604146, 0.21260997916184302, 0.465258910891089, 1.0],\n",
       " [0.0381303659268986, 0.20834683954619101, 0.31549504950495, 1.0],\n",
       " [0.133806320823734, 0.29976846492243603, 0.48537524752475203, 1.0],\n",
       " [0.0011861358125505401, 0.304522169483677, 0.38694356435643606, 1.0],\n",
       " [0.0139981027827686, 0.15507785366983098, 0.31501782178217796, 1.0],\n",
       " [0.14642976620823098, 0.29600601991201697, 0.525316831683168, 1.0],\n",
       " [0.0932751800081109, 0.141984545033573, 0.41048514851485207, 1.0],\n",
       " [0.00811042864407974, 0.211805394767307, 0.429431188118812, 0.0],\n",
       " [0.0, 0.0709539245195647, 0.507955445544555, 0.0],\n",
       " [0.0660035574073231, 0.123804700162075, 0.53110396039604, 1.0],\n",
       " [0.0422503376636625, 0.31314685112294505, 0.55640099009901, 0.0],\n",
       " [0.0146241744679766, 0.24687427645288298, 0.284507425742574, 1.0],\n",
       " [0.0198202694208487, 0.103837693910627, 0.310052475247525, 1.0],\n",
       " [0.3445349492516889, 0.148483445241954, 0.21202821782178197, 0.0],\n",
       " [0.20357280908664002, 0.174218569113221, 0.214376237623762, 0.0],\n",
       " [0.0731978811573925, 0.0986585436443621, 0.410580198019802, 0.0],\n",
       " [0.0318926517086206, 0.09508422088446401, 0.383867821782178, 0.0],\n",
       " [0.0631417297280539, 0.41568650150497793, 0.242291584158416, 0.0],\n",
       " [0.0468823680311396, 0.208821486455198, 0.197910891089109, 0.0],\n",
       " [0.171115592735368, 0.211149861078953, 0.272534653465347, 0.0],\n",
       " [0.321847351521749, 0.05249334336651999, 0.23384207920792102, 0.0],\n",
       " [0.0654209907034356, 0.163586767770317, 0.298889108910891, 0.0],\n",
       " [0.116909886181968, 0.22131714517249398, 0.28299603960396, 1.0],\n",
       " [0.0720842536470426, 0.228245832368604, 0.272206435643564, 1.0],\n",
       " [0.0279857043631496, 0.1979943273906, 0.5160841584158421, 1.0],\n",
       " [0.18894863461866399, 0.154594524195416, 0.20582574257425698, 1.0],\n",
       " [0.168264266258487, 0.26749536929844897, 0.312978712871287, 1.0],\n",
       " [0.0386859295389322, 0.25264962954387604, 0.464595049504951, 0.0],\n",
       " [0.0657700306685115, 0.160466832600139, 0.338978712871287, 1.0],\n",
       " [0.0177655341536606, 0.24931263023848102, 0.31520693069306893, 1.0],\n",
       " [0.0427528952065012, 0.37890426024542695, 0.514613861386139, 1.0],\n",
       " [0.0464298162139565, 0.116703808752026, 0.265221782178218, 1.0],\n",
       " [0.0170639538227127, 0.0300170757119704, 0.58360396039604, 0.0],\n",
       " [0.0182940946738402, 0.0616592382495948, 0.268670792079208, 0.0],\n",
       " [0.197272587711293, 0.335864783514703, 0.231080693069307, 0.0],\n",
       " [0.24262828093816696, 0.0801733618893262, 0.34787722772277196, 0.0],\n",
       " [0.073832453815962, 0.0671639847186848, 0.305692574257426, 0.0],\n",
       " [0.0494741647918687, 0.315006367214633, 0.44578019801980195, 0.0],\n",
       " [0.0788565290725788, 0.013374044917804999, 0.320264851485149, 0.0],\n",
       " [0.081261304419356, 0.172681755035888, 0.222585643564356, 0.0],\n",
       " [0.0156377905270154, 0.1813498495022, 0.401507920792079, 0.0],\n",
       " [0.0308205289505648, 0.0929454156054642, 0.289335643564356, 0.0],\n",
       " [0.15336706052843, 0.12757293354943303, 0.273534653465347, 0.0],\n",
       " [0.344264918333149, 0.0753979509145636, 0.37492673267326704, 0.0],\n",
       " [0.0658100352490361, 0.113019506830285, 0.139182178217822, 0.0],\n",
       " [0.0644753824312884, 0.195583468395462, 0.437741584158416, 0.0],\n",
       " [0.0447081190796347, 0.12603901366057002, 0.238646534653465, 0.0],\n",
       " [0.0321381798215896, 0.0704127112757583, 0.22448168316831696, 0.0],\n",
       " [0.0415767605390818, 0.0452983908312109, 0.157473762376238, 0.0],\n",
       " [0.182807431450901, 0.0440596781662422, 0.181358910891089, 0.0],\n",
       " [0.272081653349309, 0.0463171451724936, 0.282897524752475, 0.0],\n",
       " [0.314806545349443, 0.00175821949525349, 0.16219950495049498, 0.0],\n",
       " [0.0523219908679544, 0.0620325885621672, 0.25003762376237604, 1.0],\n",
       " [0.0846721949663237, 0.0380426603380412, 0.273808415841584, 1.0],\n",
       " [0.0570290298239149, 0.278080863625839, 0.29272524752475204, 1.0],\n",
       " [0.0936002172248722, 0.33466224820560303, 0.213514851485149, 1.0],\n",
       " [0.16820225915867398, 0.20774050706181998, 0.35803861386138597, 1.0],\n",
       " [0.190642828603875, 0.273338735818476, 0.287323267326733, 1.0],\n",
       " [0.22683547266162002, 0.33946370687659194, 0.360224257425743, 1.0],\n",
       " [0.0914179673572624, 0.251732171799028, 0.337907425742574, 1.0],\n",
       " [0.0362341488100388, 0.418637126649687, 0.43169752475247497, 1.0],\n",
       " [0.0471313965449044, 0.19634029868025002, 0.434568811881188, 1.0],\n",
       " [0.00427148908550029, 0.10673477656864999, 0.31471287128712894, 0.0],\n",
       " [0.0372687672738529, 0.186103554063441, 0.22536831683168304, 0.0],\n",
       " [0.0543252202377172, 0.00586652002778421, 0.151782178217822, 0.0],\n",
       " [0.10327432491020198, 0.0436863278536698, 0.25810099009901, 0.0],\n",
       " [0.103615363959173, 0.13785453808752, 0.20799752475247502, 1.0],\n",
       " [0.10113708019568199, 0.127386258393147, 0.203863861386139, 1.0],\n",
       " [0.0316466235383951, 0.232805626302385, 0.17176386138613903, 1.0],\n",
       " [0.122808561580301, 0.167569171104422, 0.30507821782178196, 1.0],\n",
       " [0.127592609353771, 0.267284093540171, 0.259610891089109, 1.0],\n",
       " [0.13345078011432301, 0.302229972215791, 0.158433168316832, 1.0],\n",
       " [0.10518954420281099, 0.34762676545496596, 0.252309405940594, 1.0],\n",
       " [0.15296651466592903, 0.264971636952998, 0.38410396039604, 1.0],\n",
       " [0.0415657592794375, 0.12668441768928002, 0.37310544554455394, 1.0],\n",
       " [0.0633852576119966, 0.18742040981708702, 0.552707920792079, 1.0],\n",
       " [0.117988509684359, 0.312123755498958, 0.40402376237623794, 1.0],\n",
       " [0.174240950588842, 0.37209423477656894, 0.46784158415841604, 1.0],\n",
       " [0.103098304755895, 0.0585045728177819, 0.29395544554455394, 1.0],\n",
       " [0.13500045755239, 0.37720826580226896, 0.198109900990099, 1.0],\n",
       " [0.0388819519835021, 0.221353322528363, 0.67330198019802, 1.0],\n",
       " [0.00843546586084106, 0.233566797869877, 0.376307425742574, 1.0],\n",
       " [0.13598006971798302, 0.181138573743922, 0.260884158415842, 1.0],\n",
       " [0.00146016718914317, 0.2093916415837, 0.4099366336633661, 0.0],\n",
       " [0.00124714279785035, 0.322370629775411, 0.273260396039604, 1.0],\n",
       " [0.0207193723681362, 0.25123437138226395, 0.3820272277227721, 0.0],\n",
       " [0.0316886283479458, 0.0582918499652697, 0.149335643564356, 1.0],\n",
       " [0.0121808947124446, 0.124026105579995, 0.202216831683168, 1.0],\n",
       " [0.0932431763436914, 0.0970435864783515, 0.14474158415841598, 1.0],\n",
       " [0.23936290705285798, 0.156843308636258, 0.21065742574257396, 1.0],\n",
       " [0.207616272063151, 0.26693968511229393, 0.17805445544554502, 1.0],\n",
       " [0.10652869753586801, 0.139159817087289, 0.15239603960396, 1.0],\n",
       " [0.21778743666149802, 0.338394304237092, 0.20623069306930703, 1.0],\n",
       " [0.263930720067448, 0.30255412132438103, 0.18666336633663397, 1.0],\n",
       " [0.14593170918070097, 0.144022053716138, 0.191820297029703, 1.0],\n",
       " [0.0467368513694818, 0.25780417920814996, 0.4157851485148521, 1.0],\n",
       " [0.276837197859155, 0.11320184070386699, 0.21806138613861398, 1.0],\n",
       " [0.0321181775313273, 0.32970884463996303, 0.44969207920792104, 1.0],\n",
       " [0.11489115503725199, 0.12375405186385699, 0.5112227722772279, 1.0],\n",
       " [0.11849156728445401, 0.33613104885390105, 0.44650742574257396, 1.0],\n",
       " [0.0781354465086252, 0.22536900902986803, 0.290509405940594, 1.0],\n",
       " [0.0951358930597553, 0.23601094003241502, 0.30204455445544603, 1.0],\n",
       " [0.0250358666067265, 0.218923651308173, 0.208515841584158, 1.0],\n",
       " [0.206442637682015, 0.168645809215096, 0.29371732673267303, 1.0],\n",
       " [0.0389874640646354, 0.0998581847649919, 0.378040594059406, 1.0],\n",
       " [0.0338278732914919, 0.0174143320213012, 0.15147772277227697, 0.0],\n",
       " [0.218965571557943, 0.19828664042602498, 0.33343366336633695, 1.0],\n",
       " [0.0522724851995553, 0.15922522574670098, 0.193209405940594, 0.0],\n",
       " [0.0716051987952621, 0.11854451261866199, 0.249275247524752, 0.0],\n",
       " [0.0932076722784759, 0.0726412363973142, 0.23280693069306896, 0.0],\n",
       " [0.13573504166227, 0.124086883537856, 0.196831188118812, 1.0],\n",
       " [0.16278313866937802, 0.23477222736744602, 0.131705445544554, 1.0],\n",
       " [0.41565309227906605, 0.20867243574901603, 0.12108168316831698, 1.0],\n",
       " [0.112057830621606, 0.148073917573512, 0.350274752475248, 1.0],\n",
       " [0.18310396540403898, 0.243142220421394, 0.17122673267326702, 1.0],\n",
       " [0.0367122035473062, 0.122908948830748, 0.17647277227722802, 1.0],\n",
       " [0.00683528263986225, 0.2986990622829361, 0.26623415841584197, 1.0],\n",
       " [0.0451156657437277, 0.119586420467701, 0.257719801980198, 1.0],\n",
       " [0.10382488794967, 0.250924693216022, 0.260478712871287, 1.0],\n",
       " [0.098005221597873, 0.3365203172030561, 0.315158415841584, 1.0],\n",
       " [0.17862745284335102, 0.0915098981245658, 0.215881188118812, 1.0],\n",
       " [0.10240872579910401, 0.17352396388052801, 0.258798514851485, 1.0],\n",
       " [0.0232381607694081, 0.139591051169252, 0.197383663366337, 1.0],\n",
       " [0.381239151882891, 0.119066913637416, 0.25529851485148497, 1.0],\n",
       " [0.33840924785888, 0.204212491317435, 0.18935495049505, 1.0],\n",
       " [0.0889666866856255, 0.0279593077101181, 0.215853465346535, 0.0],\n",
       " [0.21442755195469898, 0.0213938411669368, 0.165903465346535, 0.0],\n",
       " [0.0393890100416498, 0.131549548506599, 0.158992079207921, 0.0],\n",
       " [0.13663814506761, 0.0405302153276221, 0.205662871287129, 0.0],\n",
       " [0.10082604458210499, 0.183879370224589, 0.127921287128713, 1.0],\n",
       " [0.108502423527494, 0.218149455892568, 0.169359405940594, 1.0],\n",
       " [0.219698655496054, 0.139336362583931, 0.133959900990099, 1.0],\n",
       " [0.00777589033944387, 0.0323946515397082, 0.173274752475248, 1.0],\n",
       " [0.0853932775302772, 0.07505788376939099, 0.17333217821782199, 1.0],\n",
       " [0.102404225283795, 0.448995716601065, 0.19809306930693105, 1.0],\n",
       " [0.0649044315574134, 0.254993922204214, 0.31421287128712894, 1.0],\n",
       " [0.17537858084750696, 0.0153826117156749, 0.182453465346535, 1.0],\n",
       " [0.15332655589064997, 0.0548231650845103, 0.19545742574257396, 1.0],\n",
       " [0.10160063327251, 0.0628617735586941, 0.17707772277227696, 1.0],\n",
       " [0.0376423100445001, 0.17813295901829101, 0.123503465346535, 1.0],\n",
       " [0.0530400730883687, 0.0558375781430887, 0.187141089108911, 1.0],\n",
       " [0.0239652440204404, 0.0875202593192868, 0.23245, 1.0]]"
      ]
     },
     "execution_count": 4,
     "metadata": {},
     "output_type": "execute_result"
    }
   ],
   "source": [
    "nmp_list_tcf"
   ]
  },
  {
   "cell_type": "code",
   "execution_count": 6,
   "metadata": {},
   "outputs": [
    {
     "data": {
      "text/plain": [
       "(array([26., 40., 37., 24., 18., 16., 11.,  6.,  1.,  3.]),\n",
       " array([0.12108168, 0.18168193, 0.24228218, 0.30288243, 0.36348267,\n",
       "        0.42408292, 0.48468317, 0.54528342, 0.60588366, 0.66648391,\n",
       "        0.72708416]),\n",
       " <a list of 10 Patch objects>)"
      ]
     },
     "execution_count": 6,
     "metadata": {},
     "output_type": "execute_result"
    },
    {
     "data": {
      "image/png": "[encoded data removed]",
      "text/plain": [
       "<Figure size 432x288 with 1 Axes>"
      ]
     },
     "metadata": {
      "needs_background": "light"
     },
     "output_type": "display_data"
    }
   ],
   "source": [
    "plt.hist(df.tcf_norm)"
   ]
  },
  {
   "cell_type": "markdown",
   "metadata": {},
   "source": [
    "# Defining parameters"
   ]
  },
  {
   "cell_type": "code",
   "execution_count": 22,
   "metadata": {},
   "outputs": [],
   "source": [
    "num_ss = 100\n",
    "dt = .1  # Time step.\n",
    "T = 10  # Total time.\n",
    "tolerance = 1e-8\n",
    "max1 = 1\n",
    "max2 = 1\n",
    "n = int(T / dt)\n",
    "t = np.linspace(0., T, n)  # Vector of times.\n",
    "sim_stages = np.linspace(0,n-1,num_ss, dtype = int)\n"
   ]
  },
  {
   "cell_type": "code",
   "execution_count": 23,
   "metadata": {},
   "outputs": [
    {
     "ename": "NameError",
     "evalue": "name 'x' is not defined",
     "output_type": "error",
     "traceback": [
      "\u001b[0;31m---------------------------------------------------------------------------\u001b[0m",
      "\u001b[0;31mNameError\u001b[0m                                 Traceback (most recent call last)",
      "\u001b[0;32m<ipython-input-23-a240a0655fd5>\u001b[0m in \u001b[0;36m<module>\u001b[0;34m\u001b[0m\n\u001b[1;32m      1\u001b[0m \u001b[0mx_vals\u001b[0m \u001b[0;34m=\u001b[0m \u001b[0;34m[\u001b[0m\u001b[0;36m0\u001b[0m\u001b[0;34m,\u001b[0m \u001b[0mn\u001b[0m\u001b[0;34m]\u001b[0m\u001b[0;34m\u001b[0m\u001b[0;34m\u001b[0m\u001b[0m\n\u001b[0;32m----> 2\u001b[0;31m \u001b[0my_vals\u001b[0m \u001b[0;34m=\u001b[0m \u001b[0;34m[\u001b[0m\u001b[0mx\u001b[0m\u001b[0;34m,\u001b[0m \u001b[0;36m0\u001b[0m\u001b[0;34m]\u001b[0m\u001b[0;34m\u001b[0m\u001b[0;34m\u001b[0m\u001b[0m\n\u001b[0m\u001b[1;32m      3\u001b[0m \u001b[0mcoefs\u001b[0m \u001b[0;34m=\u001b[0m \u001b[0mnp\u001b[0m\u001b[0;34m.\u001b[0m\u001b[0mpolyfit\u001b[0m\u001b[0;34m(\u001b[0m\u001b[0mx_vals\u001b[0m\u001b[0;34m,\u001b[0m\u001b[0my_vals\u001b[0m\u001b[0;34m,\u001b[0m\u001b[0;36m5\u001b[0m\u001b[0;34m)\u001b[0m\u001b[0;34m\u001b[0m\u001b[0;34m\u001b[0m\u001b[0m\n\u001b[1;32m      4\u001b[0m \u001b[0mxf\u001b[0m\u001b[0;34m=\u001b[0m\u001b[0mnp\u001b[0m\u001b[0;34m.\u001b[0m\u001b[0mlinspace\u001b[0m\u001b[0;34m(\u001b[0m\u001b[0;36m0\u001b[0m\u001b[0;34m,\u001b[0m\u001b[0mn\u001b[0m\u001b[0;34m,\u001b[0m\u001b[0mn\u001b[0m\u001b[0;34m)\u001b[0m\u001b[0;34m\u001b[0m\u001b[0;34m\u001b[0m\u001b[0m\n\u001b[1;32m      5\u001b[0m \u001b[0mnew_line\u001b[0m \u001b[0;34m=\u001b[0m \u001b[0mnp\u001b[0m\u001b[0;34m.\u001b[0m\u001b[0mpolyval\u001b[0m\u001b[0;34m(\u001b[0m\u001b[0mcoefs\u001b[0m\u001b[0;34m,\u001b[0m \u001b[0mxf\u001b[0m\u001b[0;34m)\u001b[0m\u001b[0;34m\u001b[0m\u001b[0;34m\u001b[0m\u001b[0m\n",
      "\u001b[0;31mNameError\u001b[0m: name 'x' is not defined"
     ]
    }
   ],
   "source": [
    "x_vals = [0, n]\n",
    "y_vals = [x, 0]\n",
    "coefs = np.polyfit(x_vals,y_vals,5)\n",
    "xf=np.linspace(0,n,n)\n",
    "new_line = np.polyval(coefs, xf)\n",
    "plt.scatter(xf,new_line,c='g', marker='^', s=5)\n"
   ]
  },
  {
   "cell_type": "code",
   "execution_count": null,
   "metadata": {},
   "outputs": [],
   "source": [
    "def em_cle_tcf_alpha1 (n_traj, x_init, y_init, tolerance, dt , T, alpha2, a, c, b, d, max1, max2, lambda1, lambda2, tcf_init, tcf_group, seed = 20):\n",
    "    np.random.seed(seed)\n",
    "    n = int(T / dt)\n",
    "    t = np.linspace(0., T, n)\n",
    "    sqrtdt =  np.sqrt(dt/omega) \n",
    "    x = np.zeros((n_traj,2,n))\n",
    "    x[:,:,0]= [x_init,y_init]\n",
    "    diverging_time = n/3\n",
    "    \n",
    "    # Euler-Marayama method\n",
    "    for k in range(n_traj):\n",
    "        if tcf_group == 0:\n",
    "            x_vals = [0, n]\n",
    "            y_vals = [tcf_init, 0]\n",
    "            coefs = np.polyfit(x_vals,y_vals,5)\n",
    "            xf=np.linspace(0,n,n)\n",
    "            alpha_vals = np.polyval(coefs, xf)\n",
    "            \n",
    "            for i in range(n - 1):\n",
    "                pp = protein_production([x[k][0][i], x[k][1][i]],alpha_vals[i],alpha2,a,c,b,d, max1, max2)\n",
    "                de = decay([x[k][0][i], x[k][1][i]],lambda1,lambda2)\n",
    "                detT = deterministic_term(pp,de)\n",
    "                stochastic_term = np.array([np.sqrt(pp[0] + de[0]), np.sqrt(pp[1] + de[1])])\n",
    "                x[k][0][i + 1] = x[k][0][i] + dt * detT[0] + stochastic_term[0] * sqrtdt * np.random.randn() #Chemical langevin equation\n",
    "                x[k][1][i + 1] = x[k][1][i] + dt * detT[1] + stochastic_term[1] * sqrtdt * np.random.randn()\n",
    "\n",
    "                # Tolerance - setting small values and negative values to 0 to account for negative values from the standard normal\n",
    "                if(x[k][0][i + 1] < tolerance):\n",
    "                    x[k][0][i + 1] = 0\n",
    "                elif(x[k][1][i + 1] < tolerance):\n",
    "                    x[k][1][i + 1] = 0\n",
    "                    \n",
    "            elif tcf_group == 0:\n",
    "                x_vals = [0, n]\n",
    "                y_vals = [tcf_init, 1]\n",
    "                coefs = np.polyfit(x_vals,y_vals,5)\n",
    "                xf=np.linspace(0,n,n)\n",
    "                alpha_vals = np.polyval(coefs, xf)\n",
    "                \n",
    "                           \n",
    "                for i in range(n - 1):\n",
    "                    pp = protein_production([x[k][0][i], x[k][1][i]],alpha_vals[i],alpha2,a,c,b,d, max1, max2)\n",
    "                    de = decay([x[k][0][i], x[k][1][i]],lambda1,lambda2)\n",
    "                    detT = deterministic_term(pp,de)\n",
    "                    stochastic_term = np.array([np.sqrt(pp[0] + de[0]), np.sqrt(pp[1] + de[1])])\n",
    "                    x[k][0][i + 1] = x[k][0][i] + dt * detT[0] + stochastic_term[0] * sqrtdt * np.random.randn() #Chemical langevin equation\n",
    "                    x[k][1][i + 1] = x[k][1][i] + dt * detT[1] + stochastic_term[1] * sqrtdt * np.random.randn()\n",
    "\n",
    "                    # Tolerance - setting small values and negative values to 0 to account for negative values from the standard normal\n",
    "                    if(x[k][0][i + 1] < tolerance):\n",
    "                        x[k][0][i + 1] = 0\n",
    "                    elif(x[k][1][i + 1] < tolerance):\n",
    "                        x[k][1][i + 1] = 0\n",
    "                        \n",
    "    return x"
   ]
  },
  {
   "cell_type": "markdown",
   "metadata": {},
   "source": [
    "# Stoch model"
   ]
  },
  {
   "cell_type": "markdown",
   "metadata": {},
   "source": [
    "`batch`: Total number of rounds to iterate the entire run. Equivalent to an entire HCR time-course experiment from 18ss to 28ss.\n",
    "\n",
    "`num_nmps_time`: Number of NMps / nmp_numbers (total number of cells / embryo) / batch calculated at `num_ss` intervals.\n",
    "\n",
    "`num_nmps_embryos_time`: `num_nmps_time` of all embryos\n",
    "\n",
    "`batch_nmp_num`: `num_nmps_embryos_time` for all batches.\n"
   ]
  },
  {
   "cell_type": "markdown",
   "metadata": {},
   "source": [
    "## Autonomous "
   ]
  },
  {
   "cell_type": "code",
   "execution_count": 24,
   "metadata": {},
   "outputs": [],
   "source": [
    "def stoch_model(alpha1, alpha2, a, c, b, d, lambda1, lambda2, omega, exit_nmp_val):\n",
    "    batch_num = 0\n",
    "    batch = 1\n",
    "    batch_nmp_num = [[] for i in range(batch)]\n",
    "\n",
    "    while batch_num < batch:\n",
    "        trajs_list = []\n",
    "        i = 0\n",
    "        while i < nmp_numbers:\n",
    "            xinit = nmp_list[i][0]\n",
    "            yinit = nmp_list[i][1]\n",
    "            single_cell_sim = em_cle(1, xinit, yinit, tolerance, dt , T, alpha1, alpha2, a, c, b, d, max1, max2, lambda1, lambda2, omega, seed = batch_num)\n",
    "            trajs_list.append(single_cell_sim)\n",
    "            i+=1\n",
    "        #print(\"Embryo simulation complete: {} cells\".format(nmp_numbers))\n",
    "\n",
    "        num_nmps_time = []\n",
    "        for i in range(num_ss) :\n",
    "            nmp_counter = 0\n",
    "            traj = np.squeeze(np.array(trajs_list))[:,:,sim_stages[i]]\n",
    "            for cell in traj:\n",
    "                if not ((cell[0] <= exit_nmp_val and cell[1] >= exit_nmp_val) or (cell[0] >= exit_nmp_val and cell[1] <= exit_nmp_val)):\n",
    "                    nmp_counter += 1\n",
    "            num_nmps_time.append(nmp_counter)\n",
    "        #print(\"num_nmps_time\", num_nmps_time)\n",
    "        batch_nmp_num[batch_num].append(num_nmps_time)\n",
    "        batch_num +=1\n",
    "    return batch_nmp_num\n",
    "\n"
   ]
  },
  {
   "cell_type": "markdown",
   "metadata": {},
   "source": [
    "## TCF model"
   ]
  },
  {
   "cell_type": "code",
   "execution_count": 7,
   "metadata": {},
   "outputs": [],
   "source": [
    "def stoch_model_tcf(alpha1, alpha2, a, c, b, d, lambda1, lambda2, omega, exit_nmp_val):\n",
    "    batch_num = 0\n",
    "    batch = 1\n",
    "    batch_nmp_num = [[] for i in range(batch)]\n",
    "\n",
    "    while batch_num < batch:\n",
    "        trajs_list = []\n",
    "        i = 0\n",
    "        while i < nmp_numbers:\n",
    "            xinit = nmp_list_tcf[i][0]\n",
    "            yinit = nmp_list_tcf[i][1]\n",
    "            tcf_init = nmp_list_tcf[i][2]\n",
    "            tcf_group = nmp_list_tcf[i][3]\n",
    "            single_cell_sim = em_cle_tcf_alpha1(1, xinit, yinit, tolerance, dt , T, alpha1, alpha2, a, c, b, d, max1, max2, lambda1, lambda2, omega, tcf_init = tcf_init, tcf_group = tcf_group, seed = batch_num)\n",
    "            trajs_list.append(single_cell_sim)\n",
    "            i+=1\n",
    "        #print(\"Embryo simulation complete: {} cells\".format(nmp_numbers))\n",
    "\n",
    "        num_nmps_time = []\n",
    "        for i in range(num_ss) :\n",
    "            nmp_counter = 0\n",
    "            traj = np.squeeze(np.array(trajs_list))[:,:,sim_stages[i]]\n",
    "            for cell in traj:\n",
    "                if not ((cell[0] <= exit_nmp_val and cell[1] >= exit_nmp_val) or (cell[0] >= exit_nmp_val and cell[1] <= exit_nmp_val)):\n",
    "                    nmp_counter += 1\n",
    "            num_nmps_time.append(nmp_counter)\n",
    "        #print(\"num_nmps_time\", num_nmps_time)\n",
    "        batch_nmp_num[batch_num].append(num_nmps_time)\n",
    "        batch_num +=1\n",
    "    return batch_nmp_num\n",
    "\n"
   ]
  },
  {
   "cell_type": "code",
   "execution_count": 42,
   "metadata": {},
   "outputs": [],
   "source": [
    " md = np.mean(batch_nmp_num, axis = 0)"
   ]
  },
  {
   "cell_type": "code",
   "execution_count": 68,
   "metadata": {},
   "outputs": [
    {
     "data": {
      "text/plain": [
       "(95,)"
      ]
     },
     "execution_count": 68,
     "metadata": {},
     "output_type": "execute_result"
    }
   ],
   "source": [
    "(((md - data)/0.25)**2)[0][5:].shape"
   ]
  },
  {
   "cell_type": "code",
   "execution_count": 72,
   "metadata": {},
   "outputs": [
    {
     "data": {
      "text/plain": [
       "3848738.8647658397"
      ]
     },
     "execution_count": 72,
     "metadata": {},
     "output_type": "execute_result"
    }
   ],
   "source": [
    "np.sum((((md - data)/0.25)**2)[0])"
   ]
  },
  {
   "cell_type": "code",
   "execution_count": 44,
   "metadata": {},
   "outputs": [
    {
     "data": {
      "text/plain": [
       "3769907.693793953"
      ]
     },
     "execution_count": 44,
     "metadata": {},
     "output_type": "execute_result"
    }
   ],
   "source": [
    "np.sum((((md - data)/0.25)**2)[0][5:])"
   ]
  },
  {
   "cell_type": "markdown",
   "metadata": {},
   "source": [
    "# MCMC functions"
   ]
  },
  {
   "cell_type": "code",
   "execution_count": 25,
   "metadata": {},
   "outputs": [],
   "source": [
    "# Import data\n",
    "\n",
    "def logposterior(theta,sigma, x):\n",
    "    lp = logprior(theta)\n",
    "    if not np.isfinite(lp):\n",
    "        return -np.inf\n",
    "    return lp + loglikelihood(theta, sigma,x)\n",
    "\n"
   ]
  },
  {
   "cell_type": "code",
   "execution_count": 26,
   "metadata": {},
   "outputs": [],
   "source": [
    "def loglikelihood(theta, sigma,t):\n",
    "    alpha1, alpha2, a, c, b, d, lambda1, lambda2, omega, exit_nmp_val = theta\n",
    "    \n",
    "    batch_nmp_num = stoch_model(alpha1, alpha2, a, c, b, d, lambda1, lambda2, omega, exit_nmp_val)\n",
    "    md = np.mean(batch_nmp_num, axis = 0)\n",
    "    return -0.5*np.sum((((md - data)/0.25)**2)[0])\n",
    "\n"
   ]
  },
  {
   "cell_type": "code",
   "execution_count": 27,
   "metadata": {},
   "outputs": [],
   "source": [
    "# Add evidence of activation or repression\n",
    "def logprior(theta):\n",
    "    alpha1, alpha2, a, c, b, d, lambda1, lambda2, omega, exit_nmp_val = theta\n",
    "    if 0 < alpha1 < 1 and \\\n",
    "       0 < alpha2 < 1  and \\\n",
    "       0  < a < 1  and \\\n",
    "       0 < c <1  and \\\n",
    "       0  < b < 1  and \\\n",
    "       0  < d < 1  and \\\n",
    "       0 < lambda1 < 5 and \\\n",
    "       0  < lambda2 < 5  and \\\n",
    "       10  < omega < 1000  and \\\n",
    "       0 < exit_nmp_val < 0.3:\n",
    "        lp = 0.\n",
    "    else:\n",
    "        lp = -np.inf\n",
    "    return lp\n"
   ]
  },
  {
   "cell_type": "markdown",
   "metadata": {},
   "source": [
    "# Run MCMC model"
   ]
  },
  {
   "cell_type": "code",
   "execution_count": 29,
   "metadata": {},
   "outputs": [],
   "source": [
    "Nens = 100\n",
    "# Initial (Nens) points\n",
    "alpha1_ini = np.random.uniform(0,1, Nens) \n",
    "alpha2_ini = np.random.uniform(0,1, Nens) \n",
    "a_ini = np.random.uniform(0,1, Nens) \n",
    "c_ini = np.random.uniform(0,1, Nens) \n",
    "b_ini = np.random.uniform(0,1, Nens) \n",
    "d_ini = np.random.uniform(0,1, Nens) \n",
    "lambda1_ini = np.random.uniform(0,5, Nens) \n",
    "lambda2_ini = np.random.uniform(0,5, Nens) \n",
    "omega_ini = np.random.uniform(10,1000, Nens) \n",
    "exit_nmp_val_ini = np.random.uniform(0,0.3, Nens) \n",
    "\n",
    "inisamples = np.array([alpha1_ini, alpha2_ini, a_ini, \\\n",
    "                       c_ini, b_ini, d_ini,\\\n",
    "                       lambda1_ini, lambda2_ini, omega_ini,\\\n",
    "                       exit_nmp_val_ini]).T\n",
    "\n",
    "nwalkers, ndim = inisamples.shape\n",
    "ndims = inisamples.shape[1] \n",
    "Nburnin = 0   \n",
    "Nsamples = 100\n",
    "dsigma = 0.25\n",
    "argslist = (dsigma, sim_stages)\n",
    "\n",
    "\n"
   ]
  },
  {
   "cell_type": "markdown",
   "metadata": {},
   "source": [
    "### Backend saving"
   ]
  },
  {
   "cell_type": "code",
   "execution_count": null,
   "metadata": {},
   "outputs": [],
   "source": [
    "\n",
    "filename = \"test_saving.h5\"\n",
    "backend = emcee.backends.HDFBackend(filename)\n",
    "backend.reset(nwalkers, ndim) #In case file name exists already- this clears it.\n"
   ]
  },
  {
   "cell_type": "markdown",
   "metadata": {},
   "source": [
    "### Multiprocessing "
   ]
  },
  {
   "cell_type": "code",
   "execution_count": 16,
   "metadata": {},
   "outputs": [
    {
     "name": "stderr",
     "output_type": "stream",
     "text": [
      "100%|███████████████████████████████████████████████████████████████████████████████████████████| 3/3 [00:26<00:00,  8.87s/it]"
     ]
    },
    {
     "name": "stdout",
     "output_type": "stream",
     "text": [
      "One run took 36.3 seconds\n"
     ]
    },
    {
     "name": "stderr",
     "output_type": "stream",
     "text": [
      "\n"
     ]
    }
   ],
   "source": [
    "with Pool() as pool:\n",
    "    start = time.time()\n",
    "    sampler = emcee.EnsembleSampler(Nens, ndims, logposterior, args = argslist, pool = pool, moves = emcee.moves.StretchMove(a = 1.3))\n",
    "    sampler.run_mcmc(inisamples, Nsamples+Nburnin, progress=True)\n",
    "    end = time.time()\n",
    "    time_taken = end - start\n",
    "    print(\"One run took {0:.1f} seconds\".format(time_taken))\n",
    "postsamples = sampler.chain[:, Nburnin:, :].reshape((-1, ndims))\n"
   ]
  },
  {
   "cell_type": "markdown",
   "metadata": {},
   "source": [
    "### MPI"
   ]
  },
  {
   "cell_type": "code",
   "execution_count": 14,
   "metadata": {},
   "outputs": [],
   "source": [
    "from schwimmbad import MPIPool\n",
    "\n",
    "with MPIPool() as pool:\n",
    "    if not pool.is_master():\n",
    "        pool.wait()\n",
    "        sys.exit(0)\n",
    "    np.random.seed(42)\n",
    "\n",
    "    inisamples = np.array([alpha1_ini, alpha2_ini, a_ini, \\\n",
    "                           c_ini, b_ini, d_ini,\\\n",
    "                           lambda1_ini, lambda2_ini, omega_ini,\\\n",
    "                           exit_nmp_val_ini]).T\n",
    "\n",
    "    nwalkers, ndim = inisamples.shape\n",
    "    ndims = inisamples.shape[1] \n",
    "    Nburnin = 0   \n",
    "    Nsamples = 3\n",
    "    dsigma = 0.25\n",
    "    argslist = (dsigma, sim_stages)\n",
    "    np.random.seed(42)\n",
    "    initial = np.random.randn(32, 5)\n",
    "    nwalkers, ndim = initial.shape\n",
    "    nsteps = 100\n",
    "\n",
    "    start = time.time()\n",
    "    sampler = emcee.EnsembleSampler(Nens, ndims, logposterior, args = argslist, pool = pooL)\n",
    "    sampler.run_mcmc(inisamples, Nsamples+Nburnin, progress=True)\n",
    "    end = time.time()\n",
    "    time_taken = end - start\n",
    "    print(\"One run took {0:.1f} seconds\".format(time_taken))"
   ]
  },
  {
   "cell_type": "code",
   "execution_count": 124,
   "metadata": {},
   "outputs": [
    {
     "data": {
      "text/plain": [
       "10"
      ]
     },
     "execution_count": 124,
     "metadata": {},
     "output_type": "execute_result"
    }
   ],
   "source": [
    "ndims"
   ]
  },
  {
   "cell_type": "markdown",
   "metadata": {},
   "source": [
    "# Results "
   ]
  },
  {
   "cell_type": "markdown",
   "metadata": {},
   "source": [
    "## MCMC properties"
   ]
  },
  {
   "cell_type": "markdown",
   "metadata": {},
   "source": [
    "### Viewing parameter distributions by accessing chain"
   ]
  },
  {
   "cell_type": "code",
   "execution_count": 5,
   "metadata": {},
   "outputs": [
    {
     "ename": "NameError",
     "evalue": "name 'sampler' is not defined",
     "output_type": "error",
     "traceback": [
      "\u001b[0;31m---------------------------------------------------------------------------\u001b[0m",
      "\u001b[0;31mNameError\u001b[0m                                 Traceback (most recent call last)",
      "\u001b[0;32m<ipython-input-5-2de1bb96f0a7>\u001b[0m in \u001b[0;36m<module>\u001b[0;34m\u001b[0m\n\u001b[0;32m----> 1\u001b[0;31m \u001b[0msamples\u001b[0m \u001b[0;34m=\u001b[0m \u001b[0msampler\u001b[0m\u001b[0;34m.\u001b[0m\u001b[0mget_chain\u001b[0m\u001b[0;34m(\u001b[0m\u001b[0mflat\u001b[0m\u001b[0;34m=\u001b[0m\u001b[0;32mTrue\u001b[0m\u001b[0;34m)\u001b[0m\u001b[0;34m\u001b[0m\u001b[0;34m\u001b[0m\u001b[0m\n\u001b[0m\u001b[1;32m      2\u001b[0m \u001b[0mplt\u001b[0m\u001b[0;34m.\u001b[0m\u001b[0mhist\u001b[0m\u001b[0;34m(\u001b[0m\u001b[0msamples\u001b[0m\u001b[0;34m[\u001b[0m\u001b[0;34m:\u001b[0m\u001b[0;34m,\u001b[0m \u001b[0;36m3\u001b[0m\u001b[0;34m]\u001b[0m\u001b[0;34m,\u001b[0m \u001b[0;36m100\u001b[0m\u001b[0;34m,\u001b[0m \u001b[0mcolor\u001b[0m\u001b[0;34m=\u001b[0m\u001b[0;34m\"k\"\u001b[0m\u001b[0;34m,\u001b[0m \u001b[0mhisttype\u001b[0m\u001b[0;34m=\u001b[0m\u001b[0;34m\"step\"\u001b[0m\u001b[0;34m)\u001b[0m\u001b[0;34m\u001b[0m\u001b[0;34m\u001b[0m\u001b[0m\n\u001b[1;32m      3\u001b[0m \u001b[0mplt\u001b[0m\u001b[0;34m.\u001b[0m\u001b[0mxlabel\u001b[0m\u001b[0;34m(\u001b[0m\u001b[0;34mr\"$\\theta_1$\"\u001b[0m\u001b[0;34m)\u001b[0m\u001b[0;34m\u001b[0m\u001b[0;34m\u001b[0m\u001b[0m\n\u001b[1;32m      4\u001b[0m \u001b[0mplt\u001b[0m\u001b[0;34m.\u001b[0m\u001b[0mylabel\u001b[0m\u001b[0;34m(\u001b[0m\u001b[0;34mr\"$p(\\theta_1)$\"\u001b[0m\u001b[0;34m)\u001b[0m\u001b[0;34m\u001b[0m\u001b[0;34m\u001b[0m\u001b[0m\n\u001b[1;32m      5\u001b[0m \u001b[0mplt\u001b[0m\u001b[0;34m.\u001b[0m\u001b[0mgca\u001b[0m\u001b[0;34m(\u001b[0m\u001b[0;34m)\u001b[0m\u001b[0;34m.\u001b[0m\u001b[0mset_yticks\u001b[0m\u001b[0;34m(\u001b[0m\u001b[0;34m[\u001b[0m\u001b[0;34m]\u001b[0m\u001b[0;34m)\u001b[0m\u001b[0;34m;\u001b[0m\u001b[0;34m\u001b[0m\u001b[0;34m\u001b[0m\u001b[0m\n",
      "\u001b[0;31mNameError\u001b[0m: name 'sampler' is not defined"
     ]
    }
   ],
   "source": [
    "samples = sampler.get_chain(flat=True)\n",
    "plt.hist(samples[:, 3], 100, color=\"k\", histtype=\"step\")\n",
    "plt.xlabel(r\"$\\theta_1$\")\n",
    "plt.ylabel(r\"$p(\\theta_1)$\")\n",
    "plt.gca().set_yticks([]);\n"
   ]
  },
  {
   "cell_type": "code",
   "execution_count": 149,
   "metadata": {},
   "outputs": [
    {
     "data": {
      "text/plain": [
       "(72, 10)"
      ]
     },
     "execution_count": 149,
     "metadata": {},
     "output_type": "execute_result"
    }
   ],
   "source": [
    "sampler.get_chain(flat=True).shape"
   ]
  },
  {
   "cell_type": "markdown",
   "metadata": {},
   "source": [
    "### Viewing Mean acceptance fraction of chain"
   ]
  },
  {
   "cell_type": "code",
   "execution_count": 95,
   "metadata": {},
   "outputs": [
    {
     "name": "stdout",
     "output_type": "stream",
     "text": [
      "Mean acceptance fraction: 0.222\n"
     ]
    }
   ],
   "source": [
    "print(\"Mean acceptance fraction: {0:.3f}\".format(np.mean(sampler.acceptance_fraction)))\n"
   ]
  },
  {
   "cell_type": "markdown",
   "metadata": {},
   "source": [
    "### View integrated autocorrelated time"
   ]
  },
  {
   "cell_type": "code",
   "execution_count": 96,
   "metadata": {},
   "outputs": [
    {
     "name": "stdout",
     "output_type": "stream",
     "text": [
      "Mean autocorrelation time: nan steps\n"
     ]
    },
    {
     "name": "stderr",
     "output_type": "stream",
     "text": [
      "/home/porcupine/miniconda3/lib/python3.7/site-packages/emcee/autocorr.py:36: RuntimeWarning: invalid value encountered in true_divide\n",
      "  acf /= acf[0]\n",
      "/home/porcupine/miniconda3/lib/python3.7/site-packages/emcee/autocorr.py:41: RuntimeWarning: invalid value encountered in less\n",
      "  m = np.arange(len(taus)) < c * taus\n",
      "/home/porcupine/miniconda3/lib/python3.7/site-packages/emcee/autocorr.py:99: RuntimeWarning: invalid value encountered in greater\n",
      "  flag = tol * tau_est > n_t\n"
     ]
    }
   ],
   "source": [
    "print(\n",
    "    \"Mean autocorrelation time: {0:.3f} steps\".format(\n",
    "        np.mean(sampler.get_autocorr_time())\n",
    "    )\n",
    ")"
   ]
  },
  {
   "cell_type": "markdown",
   "metadata": {},
   "source": [
    "### Corner plot"
   ]
  },
  {
   "cell_type": "code",
   "execution_count": 76,
   "metadata": {},
   "outputs": [
    {
     "name": "stderr",
     "output_type": "stream",
     "text": [
      "WARNING:root:Too few points to create valid contours\n",
      "WARNING:root:Too few points to create valid contours\n",
      "WARNING:root:Too few points to create valid contours\n",
      "WARNING:root:Too few points to create valid contours\n",
      "WARNING:root:Too few points to create valid contours\n",
      "WARNING:root:Too few points to create valid contours\n",
      "WARNING:root:Too few points to create valid contours\n",
      "WARNING:root:Too few points to create valid contours\n",
      "WARNING:root:Too few points to create valid contours\n",
      "WARNING:root:Too few points to create valid contours\n",
      "WARNING:root:Too few points to create valid contours\n",
      "WARNING:root:Too few points to create valid contours\n",
      "WARNING:root:Too few points to create valid contours\n",
      "WARNING:root:Too few points to create valid contours\n",
      "WARNING:root:Too few points to create valid contours\n",
      "WARNING:root:Too few points to create valid contours\n",
      "WARNING:root:Too few points to create valid contours\n",
      "WARNING:root:Too few points to create valid contours\n",
      "WARNING:root:Too few points to create valid contours\n",
      "WARNING:root:Too few points to create valid contours\n",
      "WARNING:root:Too few points to create valid contours\n",
      "WARNING:root:Too few points to create valid contours\n",
      "WARNING:root:Too few points to create valid contours\n",
      "WARNING:root:Too few points to create valid contours\n",
      "WARNING:root:Too few points to create valid contours\n",
      "WARNING:root:Too few points to create valid contours\n",
      "WARNING:root:Too few points to create valid contours\n",
      "WARNING:root:Too few points to create valid contours\n",
      "WARNING:root:Too few points to create valid contours\n",
      "WARNING:root:Too few points to create valid contours\n",
      "WARNING:root:Too few points to create valid contours\n",
      "WARNING:root:Too few points to create valid contours\n",
      "WARNING:root:Too few points to create valid contours\n",
      "WARNING:root:Too few points to create valid contours\n",
      "WARNING:root:Too few points to create valid contours\n",
      "WARNING:root:Too few points to create valid contours\n",
      "WARNING:root:Too few points to create valid contours\n",
      "WARNING:root:Too few points to create valid contours\n",
      "WARNING:root:Too few points to create valid contours\n",
      "WARNING:root:Too few points to create valid contours\n",
      "WARNING:root:Too few points to create valid contours\n",
      "WARNING:root:Too few points to create valid contours\n",
      "WARNING:root:Too few points to create valid contours\n",
      "WARNING:root:Too few points to create valid contours\n",
      "WARNING:root:Too few points to create valid contours\n"
     ]
    },
    {
     "name": "stdout",
     "output_type": "stream",
     "text": [
      "Embryo simulation complete: 90 cells\n",
      "num_nmps_time [35, 44, 65, 74, 76, 78, 79, 79, 78, 78, 78, 78, 77, 77, 75, 75, 74, 74, 74, 74, 74, 73, 73, 73, 73, 73, 73, 73, 70, 70, 69, 69, 68, 68, 67, 67, 67, 67, 66, 66, 65, 64, 63, 63, 61, 60, 59, 60, 58, 57, 57, 57, 57, 56, 57, 54, 51, 50, 49, 46, 45, 44, 43, 43, 43, 43, 41, 36, 36, 35, 35, 35, 35, 35, 34, 33, 33, 33, 30, 29, 28, 28, 28, 27, 25, 25, 24, 22, 22, 21, 20, 20, 18, 16, 16, 15, 15, 14, 13, 12]\n",
      "Embryo simulation complete: 90 cells\n",
      "num_nmps_time [35, 44, 71, 80, 81, 82, 81, 82, 82, 82, 82, 81, 81, 81, 81, 81, 80, 79, 78, 78, 78, 78, 78, 78, 77, 76, 76, 76, 75, 74, 74, 73, 73, 73, 72, 72, 71, 71, 71, 70, 69, 67, 67, 67, 66, 65, 65, 65, 65, 65, 65, 65, 64, 63, 63, 63, 62, 62, 62, 62, 61, 59, 59, 59, 56, 55, 53, 51, 50, 50, 48, 46, 45, 44, 45, 44, 44, 44, 42, 39, 38, 36, 34, 34, 34, 34, 34, 34, 31, 31, 26, 25, 25, 25, 24, 24, 23, 23, 21, 20]\n",
      "Something else went wrong. Cannot plot\n"
     ]
    }
   ],
   "source": [
    "# Plot corner plot\n",
    "try:\n",
    "    import matplotlib as mpl\n",
    "    mpl.use(\"Agg\") # force Matplotlib backend to Agg\n",
    "    import corner \n",
    "except ImportError:\n",
    "    sys.exit(1)\n",
    "\n",
    "fig = corner.corner(postsamples,\\\n",
    "                    labels=[r\"$alpha1$\",r\"$alpha2$\",r\"$a$\",\\\n",
    "                            r\"$c$\",r\"$b$\",r\"$d$\",\\\n",
    "                            r\"$lambda1$\",r\"$lambda2$\",r\"$omega$\",\\\n",
    "                            r\"$exit_nmp_val$\"],\\\n",
    "                    truths=None)\n",
    "fig.savefig('emcee.png' )\n",
    "\n",
    "# Export the best set of parameters\n",
    "samples = sampler.flatchain\n",
    "params = samples[np.argmax(sampler.flatlnprobability)]\n",
    "np.save('140121_fitted_params.npy', params)    \n",
    "###    \n",
    "# If this emcee is not fed into the loop,\n",
    "# Need to output the results by uncommenting the following \n",
    "\n",
    "try:\n",
    "    plt.close(fig)\n",
    "    y_values = stoch_model(alpha1, alpha2, a, c, b, d, lambda1, lambda2, omega, exit_nmp_val)\n",
    "    f2 = plt.figure(1)\n",
    "    plt.plot(sim_stages, data, label = 'data')\n",
    "    plt.plot(sim_stages, y_values, 'b-', label = 'model')\n",
    "    plt.ylabel('NMp numbers')\n",
    "    plt.xlabel('Simulation_stages')\n",
    "    plt.legend(loc=\"best\")\n",
    "    plt.close(f2)\n",
    "    f2.savefig('plot.png')\n",
    "except:\n",
    "    print(\"Something else went wrong. Cannot plot\")\n",
    "    \n",
    "\n",
    "\n"
   ]
  },
  {
   "cell_type": "markdown",
   "metadata": {},
   "source": [
    "## Load fitted params"
   ]
  },
  {
   "cell_type": "markdown",
   "metadata": {},
   "source": [
    "#### From jupyter notebook example"
   ]
  },
  {
   "cell_type": "code",
   "execution_count": 84,
   "metadata": {},
   "outputs": [],
   "source": [
    "samples = sampler.flatchain\n",
    "params = samples[np.argmax(sampler.flatlnprobability)]\n",
    "np.save('files/npy/060421_fitted_params.npy', params)  \n",
    "fitted_params = np.load(\"files/npy/060421_fitted_params.npy\")"
   ]
  },
  {
   "cell_type": "markdown",
   "metadata": {},
   "source": [
    "#### Saved from nohup"
   ]
  },
  {
   "cell_type": "code",
   "execution_count": 134,
   "metadata": {},
   "outputs": [
    {
     "data": {
      "text/plain": [
       "(10,)"
      ]
     },
     "execution_count": 134,
     "metadata": {},
     "output_type": "execute_result"
    }
   ],
   "source": [
    "fitted_params = np.load(\"files/results/map_params_emcee.txt\" ,  allow_pickle=True)\n",
    "alpha1, alpha2, a, c, b, d, lambda1, lambda2, omega, exit_nmp_val = fitted_params\n",
    "fitted_params.shape"
   ]
  },
  {
   "cell_type": "code",
   "execution_count": 164,
   "metadata": {},
   "outputs": [
    {
     "data": {
      "image/png": "[encoded data removed]",
      "text/plain": [
       "<Figure size 432x288 with 1 Axes>"
      ]
     },
     "metadata": {
      "needs_background": "light"
     },
     "output_type": "display_data"
    }
   ],
   "source": [
    "samples = np.load(\"files/results/samples_emcee.txt\" ,  allow_pickle=True)\n",
    "plt.hist(samples[:, 3], 100, color=\"k\", histtype=\"step\")\n",
    "#plt.xlabel(r\"$\\theta_1$\")\n",
    "#plt.ylabel(r\"$p(\\theta_1)$\")\n",
    "plt.gca().set_yticks([]);\n"
   ]
  },
  {
   "cell_type": "code",
   "execution_count": 168,
   "metadata": {},
   "outputs": [
    {
     "data": {
      "text/plain": [
       "(240000, 10)"
      ]
     },
     "execution_count": 168,
     "metadata": {},
     "output_type": "execute_result"
    }
   ],
   "source": [
    "samples.shape"
   ]
  },
  {
   "cell_type": "code",
   "execution_count": 136,
   "metadata": {},
   "outputs": [
    {
     "data": {
      "text/plain": [
       "array([423.17156578, 583.93395984, 600.45008394, 446.47465559,\n",
       "       600.43979306, 449.43914778, 605.65964543, 400.22024519,\n",
       "       529.04925286, 411.48472675])"
      ]
     },
     "execution_count": 136,
     "metadata": {},
     "output_type": "execute_result"
    }
   ],
   "source": [
    "autocorr_time = np.load(\"files/results/autocorr_time_emcee.txt\" ,  allow_pickle=True)\n",
    "autocorr_time"
   ]
  },
  {
   "cell_type": "code",
   "execution_count": null,
   "metadata": {},
   "outputs": [],
   "source": [
    "acceptance_fraction = np.load(\"files/results/acceptance_fraction_emcee.txt\" ,  allow_pickle=True)\n",
    "acceptance_fraction"
   ]
  },
  {
   "cell_type": "code",
   "execution_count": 144,
   "metadata": {},
   "outputs": [
    {
     "data": {
      "text/plain": [
       "array([-5597042.8429107 , -6058490.15452306, -8619627.28374162, ...,\n",
       "        -109148.62934078,   -74867.23749369,  -301388.08785582])"
      ]
     },
     "execution_count": 144,
     "metadata": {},
     "output_type": "execute_result"
    }
   ],
   "source": [
    "log_probs = np.load(\"files/results/log_probs.txt\" ,  allow_pickle=True)\n",
    "log_probs"
   ]
  },
  {
   "cell_type": "code",
   "execution_count": 113,
   "metadata": {},
   "outputs": [],
   "source": [
    "alpha1, alpha2, a, c, b, d, lambda1, lambda2, omega, exit_nmp_val = fitted_params"
   ]
  },
  {
   "cell_type": "code",
   "execution_count": 171,
   "metadata": {},
   "outputs": [
    {
     "data": {
      "text/plain": [
       "[<matplotlib.lines.Line2D at 0x7f1e674324a8>]"
      ]
     },
     "execution_count": 171,
     "metadata": {},
     "output_type": "execute_result"
    },
    {
     "data": {
      "image/png": "[encoded data removed]",
      "text/plain": [
       "<Figure size 432x288 with 1 Axes>"
      ]
     },
     "metadata": {
      "needs_background": "light"
     },
     "output_type": "display_data"
    }
   ],
   "source": [
    "x = np.linspace(0, samples.shape[0], num = samples.shape[0])\n",
    "plt.plot(x, samples[:,1])"
   ]
  },
  {
   "cell_type": "markdown",
   "metadata": {},
   "source": [
    "### Comparing output (running stoch model with best parameters) against data"
   ]
  },
  {
   "cell_type": "code",
   "execution_count": 123,
   "metadata": {},
   "outputs": [
    {
     "name": "stdout",
     "output_type": "stream",
     "text": [
      "Embryo simulation complete: 182 cells\n",
      "num_nmps_time [91, 96, 99, 109, 121, 125, 129, 133, 137, 137, 134, 136, 136, 132, 130, 141, 136, 120, 118, 126, 123, 116, 119, 114, 120, 119, 121, 114, 115, 113, 111, 111, 107, 104, 105, 104, 105, 104, 102, 99, 99, 100, 97, 98, 98, 98, 98, 96, 95, 95, 95, 95, 92, 90, 90, 90, 90, 90, 90, 90, 89, 89, 88, 87, 85, 84, 82, 79, 71, 70, 70, 65, 63, 62, 60, 57, 54, 51, 48, 48, 46, 45, 42, 33, 27, 26, 25, 21, 14, 11, 10, 6, 3, 2, 2, 1, 1, 1, 1, 1]\n"
     ]
    }
   ],
   "source": [
    "num_ss = 100\n",
    "sim_stages = np.linspace(0,n-1,num_ss, dtype = int)\n",
    "dt = .1  # Time step.\n",
    "T = 10  # Total time.\n",
    "tolerance = 1e-8\n",
    "\n",
    "batch_num = 0\n",
    "batch = 1\n",
    "batch_nmp_num = [[] for i in range(batch)]\n",
    "\n",
    "while batch_num < batch:\n",
    "    trajs_list = []\n",
    "    i = 0\n",
    "    while i < nmp_numbers:\n",
    "        xinit = nmp_list[i][0]\n",
    "        yinit = nmp_list[i][1]\n",
    "        single_cell_sim = em_cle(1, xinit, yinit, tolerance, dt , T, alpha1, alpha2, a, c, b, d, max1, max2, lambda1, lambda2, omega, seed = batch_num)\n",
    "        trajs_list.append(single_cell_sim)\n",
    "        i+=1\n",
    "    print(\"Embryo simulation complete: {} cells\".format(nmp_numbers))\n",
    "\n",
    "    num_nmps_time = []\n",
    "    for i in range(num_ss) :\n",
    "        nmp_counter = 0\n",
    "        traj = np.squeeze(np.array(trajs_list))[:,:,sim_stages[i]]\n",
    "        for cell in traj:\n",
    "            if not ((cell[0] <= exit_nmp_val and cell[1] >= exit_nmp_val) or (cell[0] >= exit_nmp_val and cell[1] <= exit_nmp_val)):\n",
    "                nmp_counter += 1\n",
    "        num_nmps_time.append(nmp_counter)\n",
    "    print(\"num_nmps_time\", num_nmps_time)\n",
    "    batch_nmp_num[batch_num].append(num_nmps_time)\n",
    "    batch_num +=1"
   ]
  },
  {
   "cell_type": "code",
   "execution_count": 124,
   "metadata": {},
   "outputs": [
    {
     "data": {
      "text/plain": [
       "[91,\n",
       " 96,\n",
       " 99,\n",
       " 109,\n",
       " 121,\n",
       " 125,\n",
       " 129,\n",
       " 133,\n",
       " 137,\n",
       " 137,\n",
       " 134,\n",
       " 136,\n",
       " 136,\n",
       " 132,\n",
       " 130,\n",
       " 141,\n",
       " 136,\n",
       " 120,\n",
       " 118,\n",
       " 126,\n",
       " 123,\n",
       " 116,\n",
       " 119,\n",
       " 114,\n",
       " 120,\n",
       " 119,\n",
       " 121,\n",
       " 114,\n",
       " 115,\n",
       " 113,\n",
       " 111,\n",
       " 111,\n",
       " 107,\n",
       " 104,\n",
       " 105,\n",
       " 104,\n",
       " 105,\n",
       " 104,\n",
       " 102,\n",
       " 99,\n",
       " 99,\n",
       " 100,\n",
       " 97,\n",
       " 98,\n",
       " 98,\n",
       " 98,\n",
       " 98,\n",
       " 96,\n",
       " 95,\n",
       " 95,\n",
       " 95,\n",
       " 95,\n",
       " 92,\n",
       " 90,\n",
       " 90,\n",
       " 90,\n",
       " 90,\n",
       " 90,\n",
       " 90,\n",
       " 90,\n",
       " 89,\n",
       " 89,\n",
       " 88,\n",
       " 87,\n",
       " 85,\n",
       " 84,\n",
       " 82,\n",
       " 79,\n",
       " 71,\n",
       " 70,\n",
       " 70,\n",
       " 65,\n",
       " 63,\n",
       " 62,\n",
       " 60,\n",
       " 57,\n",
       " 54,\n",
       " 51,\n",
       " 48,\n",
       " 48,\n",
       " 46,\n",
       " 45,\n",
       " 42,\n",
       " 33,\n",
       " 27,\n",
       " 26,\n",
       " 25,\n",
       " 21,\n",
       " 14,\n",
       " 11,\n",
       " 10,\n",
       " 6,\n",
       " 3,\n",
       " 2,\n",
       " 2,\n",
       " 1,\n",
       " 1,\n",
       " 1,\n",
       " 1,\n",
       " 1]"
      ]
     },
     "execution_count": 124,
     "metadata": {},
     "output_type": "execute_result"
    }
   ],
   "source": [
    "(num_nmps_time)[0:100]"
   ]
  },
  {
   "cell_type": "code",
   "execution_count": 33,
   "metadata": {},
   "outputs": [
    {
     "ename": "NameError",
     "evalue": "name 'x' is not defined",
     "output_type": "error",
     "traceback": [
      "\u001b[0;31m---------------------------------------------------------------------------\u001b[0m",
      "\u001b[0;31mNameError\u001b[0m                                 Traceback (most recent call last)",
      "\u001b[0;32m<ipython-input-33-5a9b1d933e03>\u001b[0m in \u001b[0;36m<module>\u001b[0;34m\u001b[0m\n\u001b[0;32m----> 1\u001b[0;31m \u001b[0mplt\u001b[0m\u001b[0;34m.\u001b[0m\u001b[0mplot\u001b[0m\u001b[0;34m(\u001b[0m\u001b[0mx\u001b[0m\u001b[0;34m[\u001b[0m\u001b[0;36m5\u001b[0m\u001b[0;34m:\u001b[0m\u001b[0;36m100\u001b[0m\u001b[0;34m]\u001b[0m\u001b[0;34m,\u001b[0m\u001b[0;34m(\u001b[0m\u001b[0mnum_nmps_time\u001b[0m\u001b[0;34m)\u001b[0m\u001b[0;34m[\u001b[0m\u001b[0;36m5\u001b[0m\u001b[0;34m:\u001b[0m\u001b[0;36m100\u001b[0m\u001b[0;34m]\u001b[0m\u001b[0;34m,\u001b[0m \u001b[0mlabel\u001b[0m \u001b[0;34m=\u001b[0m \u001b[0;34m\"Simulated\"\u001b[0m\u001b[0;34m)\u001b[0m\u001b[0;34m\u001b[0m\u001b[0;34m\u001b[0m\u001b[0m\n\u001b[0m\u001b[1;32m      2\u001b[0m \u001b[0mplt\u001b[0m\u001b[0;34m.\u001b[0m\u001b[0mplot\u001b[0m\u001b[0;34m(\u001b[0m\u001b[0mx\u001b[0m\u001b[0;34m[\u001b[0m\u001b[0;36m5\u001b[0m\u001b[0;34m:\u001b[0m\u001b[0;36m100\u001b[0m\u001b[0;34m]\u001b[0m\u001b[0;34m,\u001b[0m\u001b[0mdata\u001b[0m\u001b[0;34m[\u001b[0m\u001b[0;36m5\u001b[0m\u001b[0;34m:\u001b[0m\u001b[0;36m100\u001b[0m\u001b[0;34m]\u001b[0m\u001b[0;34m,\u001b[0m \u001b[0mcolor\u001b[0m \u001b[0;34m=\u001b[0m \u001b[0;34m'r'\u001b[0m\u001b[0;34m,\u001b[0m \u001b[0mlabel\u001b[0m \u001b[0;34m=\u001b[0m \u001b[0;34m\"Data\"\u001b[0m\u001b[0;34m)\u001b[0m\u001b[0;34m\u001b[0m\u001b[0;34m\u001b[0m\u001b[0m\n",
      "\u001b[0;31mNameError\u001b[0m: name 'x' is not defined"
     ]
    }
   ],
   "source": [
    "plt.plot(x[5:100],(num_nmps_time)[5:100], label = \"Simulated\")\n",
    "plt.plot(x[5:100],data[5:100], color = 'r', label = \"Data\")"
   ]
  },
  {
   "cell_type": "code",
   "execution_count": 125,
   "metadata": {},
   "outputs": [
    {
     "data": {
      "text/plain": [
       "<matplotlib.legend.Legend at 0x7f1e675ed390>"
      ]
     },
     "execution_count": 125,
     "metadata": {},
     "output_type": "execute_result"
    },
    {
     "data": {
      "image/png": "[encoded data removed]",
      "text/plain": [
       "<Figure size 432x288 with 1 Axes>"
      ]
     },
     "metadata": {
      "needs_background": "light"
     },
     "output_type": "display_data"
    }
   ],
   "source": [
    "x = np.linspace(0,1,100)\n",
    "plt.plot(x[5:100],data[5:100],label=\"Data\")\n",
    "plt.plot(x[5:100],(num_nmps_time)[5:100],label=\"Simulated\", color = 'r')\n",
    "plt.xlabel('Time (normalised)')\n",
    "plt.ylabel('NMp counts')\n",
    "plt.legend()"
   ]
  },
  {
   "cell_type": "code",
   "execution_count": null,
   "metadata": {},
   "outputs": [],
   "source": [
    "samples = sampler.get_chain(flat=True)\n",
    "print('samples')\n",
    "print(samples.shape)\n",
    "print(type(samples))\n",
    "print(' ')\n",
    "with open(\"samples_emcee.txt\", \"wb\") as fp:   #Pickling\n",
    "    pickle.dump(samples, fp)\n",
    "\n",
    "log_probs = sampler.flatlnprobability\n",
    "print('log_probs')\n",
    "print(log_probs.shape)\n",
    "print(type(log_probs))\n",
    "print(' ')\n",
    "with open(\"log_probs.txt\", \"wb\") as fp:   #Pickling\n",
    "    pickle.dump(log_probs, fp)\n",
    "    \n",
    "map_params = samples[np.argmax(sampler.flatlnprobability)]\n",
    "print('map_params')\n",
    "print(map_params.shape)\n",
    "print(type(map_params))\n",
    "print(' ')\n",
    "with open(\"map_params_emcee.txt\", \"wb\") as fp:   #Pickling\n",
    "    pickle.dump(map_params, fp)\n",
    "    \n",
    "acceptance_fraction = sampler.acceptance_fraction\n",
    "print('acceptance_fraction')\n",
    "print(acceptance_fraction.shape)\n",
    "print(type(acceptance_fraction))\n",
    "print(' ')\n",
    "with open(\"acceptance_fraction_emcee.txt\", \"wb\") as fp:   #Pickling\n",
    "    pickle.dump(acceptance_fraction, fp)\n",
    "    \n",
    "autocorr_time = sampler.get_autocorr_time(quiet=True)\n",
    "print('autocorr_time')\n",
    "print(autocorr_time.shape)\n",
    "print(type(autocorr_time))\n",
    "print(' ')\n",
    "with open(\"autocorr_time_emcee.txt\", \"wb\") as fp:   #Pickling\n",
    "    pickle.dump(autocorr_time, fp)"
   ]
  },
  {
   "cell_type": "code",
   "execution_count": 128,
   "metadata": {},
   "outputs": [],
   "source": []
  },
  {
   "cell_type": "code",
   "execution_count": 129,
   "metadata": {},
   "outputs": [
    {
     "data": {
      "text/plain": [
       "array([2.05844943e-02, 9.65632033e-01, 4.52272889e-02, 3.30898025e-01,\n",
       "       4.10382923e-01, 4.17411003e-01, 4.92825227e+00, 4.68364994e+00,\n",
       "       1.70012427e+02, 2.91903166e-01])"
      ]
     },
     "execution_count": 129,
     "metadata": {},
     "output_type": "execute_result"
    }
   ],
   "source": [
    "myparams"
   ]
  }
 ],
 "metadata": {
  "kernelspec": {
   "display_name": "Python 3",
   "language": "python",
   "name": "python3"
  },
  "language_info": {
   "codemirror_mode": {
    "name": "ipython",
    "version": 3
   },
   "file_extension": ".py",
   "mimetype": "text/x-python",
   "name": "python",
   "nbconvert_exporter": "python",
   "pygments_lexer": "ipython3",
   "version": "3.7.3"
  },
  "toc": {
   "base_numbering": 1,
   "nav_menu": {},
   "number_sections": true,
   "sideBar": true,
   "skip_h1_title": false,
   "title_cell": "Table of Contents",
   "title_sidebar": "Contents",
   "toc_cell": false,
   "toc_position": {
    "height": "calc(100% - 180px)",
    "left": "10px",
    "top": "150px",
    "width": "341.325px"
   },
   "toc_section_display": true,
   "toc_window_display": true
  }
 },
 "nbformat": 4,
 "nbformat_minor": 4
}
